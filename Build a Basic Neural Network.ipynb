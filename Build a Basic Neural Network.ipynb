{
 "cells": [
  {
   "cell_type": "code",
   "execution_count": 1,
   "id": "84117aa8",
   "metadata": {},
   "outputs": [],
   "source": [
    "# Import our dependencies\n",
    "import pandas as pd\n",
    "import matplotlib as plt\n",
    "from sklearn.datasets import make_blobs\n",
    "import sklearn as skl\n",
    "import tensorflow as tf"
   ]
  },
  {
   "cell_type": "code",
   "execution_count": 2,
   "id": "154e7146",
   "metadata": {},
   "outputs": [
    {
     "data": {
      "text/plain": [
       "<AxesSubplot:xlabel='Feature 1', ylabel='Feature 2'>"
      ]
     },
     "execution_count": 2,
     "metadata": {},
     "output_type": "execute_result"
    },
    {
     "data": {
      "image/png": "[encoded data removed]",
      "text/plain": [
       "<Figure size 432x288 with 2 Axes>"
      ]
     },
     "metadata": {
      "needs_background": "light"
     },
     "output_type": "display_data"
    }
   ],
   "source": [
    "# Generate dummy dataset\n",
    "X, y = make_blobs(n_samples=1000, centers=2, n_features=2, random_state=78)\n",
    "\n",
    "# Creating a DataFrame with the dummy data\n",
    "df = pd.DataFrame(X, columns=[\"Feature 1\", \"Feature 2\"])\n",
    "df[\"Target\"] = y\n",
    "\n",
    "# Plotting the dummy data\n",
    "df.plot.scatter(x=\"Feature 1\", y=\"Feature 2\", c=\"Target\", colormap=\"winter\")"
   ]
  },
  {
   "cell_type": "code",
   "execution_count": 3,
   "id": "e537b5e1",
   "metadata": {},
   "outputs": [],
   "source": [
    "# Use sklearn to split dataset\n",
    "from sklearn.model_selection import train_test_split\n",
    "X_train, X_test, y_train, y_test = train_test_split(X, y, random_state=78)"
   ]
  },
  {
   "cell_type": "code",
   "execution_count": 4,
   "id": "95f3862e",
   "metadata": {},
   "outputs": [],
   "source": [
    "# Create scaler instance\n",
    "X_scaler = skl.preprocessing.StandardScaler()\n",
    "\n",
    "# Fit the scaler\n",
    "X_scaler.fit(X_train)\n",
    "\n",
    "# Scale the data\n",
    "X_train_scaled = X_scaler.transform(X_train)\n",
    "X_test_scaled = X_scaler.transform(X_test)"
   ]
  },
  {
   "cell_type": "code",
   "execution_count": 5,
   "id": "77033909",
   "metadata": {},
   "outputs": [],
   "source": [
    "# Create the Keras Sequential model\n",
    "nn_model = tf.keras.models.Sequential()"
   ]
  },
  {
   "cell_type": "code",
   "execution_count": 6,
   "id": "f17b5df1",
   "metadata": {},
   "outputs": [],
   "source": [
    "# Add our first Dense layer, including the input layer\n",
    "nn_model.add(tf.keras.layers.Dense(units=1, activation=\"relu\", input_dim=2))"
   ]
  },
  {
   "cell_type": "code",
   "execution_count": 7,
   "id": "58ff547f",
   "metadata": {},
   "outputs": [],
   "source": [
    "# Add the output layer that uses a probability activation function\n",
    "nn_model.add(tf.keras.layers.Dense(units=1, activation=\"sigmoid\"))"
   ]
  },
  {
   "cell_type": "code",
   "execution_count": 8,
   "id": "960cb037",
   "metadata": {},
   "outputs": [
    {
     "name": "stdout",
     "output_type": "stream",
     "text": [
      "Model: \"sequential\"\n",
      "_________________________________________________________________\n",
      " Layer (type)                Output Shape              Param #   \n",
      "=================================================================\n",
      " dense (Dense)               (None, 1)                 3         \n",
      "                                                                 \n",
      " dense_1 (Dense)             (None, 1)                 2         \n",
      "                                                                 \n",
      "=================================================================\n",
      "Total params: 5\n",
      "Trainable params: 5\n",
      "Non-trainable params: 0\n",
      "_________________________________________________________________\n"
     ]
    }
   ],
   "source": [
    "# Check the structure of the Sequential model\n",
    "nn_model.summary()"
   ]
  },
  {
   "cell_type": "code",
   "execution_count": 9,
   "id": "98ee52b4",
   "metadata": {},
   "outputs": [],
   "source": [
    "# Compile the Sequential model together and customize metrics\n",
    "nn_model.compile(loss=\"binary_crossentropy\", optimizer=\"adam\", metrics=[\"accuracy\"])"
   ]
  },
  {
   "cell_type": "code",
   "execution_count": 10,
   "id": "925ed513",
   "metadata": {},
   "outputs": [
    {
     "name": "stdout",
     "output_type": "stream",
     "text": [
      "Epoch 1/100\n",
      "24/24 [==============================] - 0s 486us/step - loss: 0.4578 - accuracy: 0.9747\n",
      "Epoch 2/100\n",
      "24/24 [==============================] - 0s 454us/step - loss: 0.4462 - accuracy: 0.9960\n",
      "Epoch 3/100\n",
      "24/24 [==============================] - 0s 446us/step - loss: 0.4347 - accuracy: 0.9960\n",
      "Epoch 4/100\n",
      "24/24 [==============================] - 0s 518us/step - loss: 0.4236 - accuracy: 0.9960\n",
      "Epoch 5/100\n",
      "24/24 [==============================] - 0s 543us/step - loss: 0.4127 - accuracy: 0.9973\n",
      "Epoch 6/100\n",
      "24/24 [==============================] - 0s 565us/step - loss: 0.4022 - accuracy: 0.9960\n",
      "Epoch 7/100\n",
      "24/24 [==============================] - 0s 588us/step - loss: 0.3920 - accuracy: 0.9973\n",
      "Epoch 8/100\n",
      "24/24 [==============================] - 0s 606us/step - loss: 0.3821 - accuracy: 0.9973\n",
      "Epoch 9/100\n",
      "24/24 [==============================] - 0s 759us/step - loss: 0.3726 - accuracy: 0.9973\n",
      "Epoch 10/100\n",
      "24/24 [==============================] - 0s 632us/step - loss: 0.3633 - accuracy: 0.9973\n",
      "Epoch 11/100\n",
      "24/24 [==============================] - 0s 617us/step - loss: 0.3544 - accuracy: 0.9973\n",
      "Epoch 12/100\n",
      "24/24 [==============================] - 0s 657us/step - loss: 0.3458 - accuracy: 0.9973\n",
      "Epoch 13/100\n",
      "24/24 [==============================] - 0s 679us/step - loss: 0.3374 - accuracy: 0.9973\n",
      "Epoch 14/100\n",
      "24/24 [==============================] - 0s 629us/step - loss: 0.3294 - accuracy: 0.9973\n",
      "Epoch 15/100\n",
      "24/24 [==============================] - 0s 601us/step - loss: 0.3216 - accuracy: 0.9973\n",
      "Epoch 16/100\n",
      "24/24 [==============================] - 0s 607us/step - loss: 0.3141 - accuracy: 0.9973\n",
      "Epoch 17/100\n",
      "24/24 [==============================] - 0s 576us/step - loss: 0.3068 - accuracy: 0.9973\n",
      "Epoch 18/100\n",
      "24/24 [==============================] - 0s 602us/step - loss: 0.2998 - accuracy: 0.9973\n",
      "Epoch 19/100\n",
      "24/24 [==============================] - 0s 582us/step - loss: 0.2929 - accuracy: 0.9973\n",
      "Epoch 20/100\n",
      "24/24 [==============================] - 0s 555us/step - loss: 0.2864 - accuracy: 0.9987\n",
      "Epoch 21/100\n",
      "24/24 [==============================] - 0s 551us/step - loss: 0.2800 - accuracy: 0.9987\n",
      "Epoch 22/100\n",
      "24/24 [==============================] - 0s 574us/step - loss: 0.2739 - accuracy: 1.0000\n",
      "Epoch 23/100\n",
      "24/24 [==============================] - 0s 579us/step - loss: 0.2679 - accuracy: 1.0000\n",
      "Epoch 24/100\n",
      "24/24 [==============================] - 0s 610us/step - loss: 0.2621 - accuracy: 1.0000\n",
      "Epoch 25/100\n",
      "24/24 [==============================] - 0s 616us/step - loss: 0.2565 - accuracy: 1.0000\n",
      "Epoch 26/100\n",
      "24/24 [==============================] - 0s 586us/step - loss: 0.2511 - accuracy: 1.0000\n",
      "Epoch 27/100\n",
      "24/24 [==============================] - 0s 737us/step - loss: 0.2458 - accuracy: 1.0000\n",
      "Epoch 28/100\n",
      "24/24 [==============================] - 0s 542us/step - loss: 0.2406 - accuracy: 1.0000\n",
      "Epoch 29/100\n",
      "24/24 [==============================] - 0s 529us/step - loss: 0.2357 - accuracy: 1.0000\n",
      "Epoch 30/100\n",
      "24/24 [==============================] - 0s 446us/step - loss: 0.2308 - accuracy: 1.0000\n",
      "Epoch 31/100\n",
      "24/24 [==============================] - 0s 531us/step - loss: 0.2261 - accuracy: 1.0000\n",
      "Epoch 32/100\n",
      "24/24 [==============================] - 0s 486us/step - loss: 0.2215 - accuracy: 1.0000\n",
      "Epoch 33/100\n",
      "24/24 [==============================] - 0s 510us/step - loss: 0.2171 - accuracy: 1.0000\n",
      "Epoch 34/100\n",
      "24/24 [==============================] - 0s 506us/step - loss: 0.2128 - accuracy: 1.0000\n",
      "Epoch 35/100\n",
      "24/24 [==============================] - 0s 802us/step - loss: 0.2087 - accuracy: 1.0000\n",
      "Epoch 36/100\n",
      "24/24 [==============================] - 0s 529us/step - loss: 0.2046 - accuracy: 1.0000\n",
      "Epoch 37/100\n",
      "24/24 [==============================] - 0s 481us/step - loss: 0.2006 - accuracy: 1.0000\n",
      "Epoch 38/100\n",
      "24/24 [==============================] - 0s 517us/step - loss: 0.1968 - accuracy: 1.0000\n",
      "Epoch 39/100\n",
      "24/24 [==============================] - 0s 492us/step - loss: 0.1930 - accuracy: 1.0000\n",
      "Epoch 40/100\n",
      "24/24 [==============================] - 0s 514us/step - loss: 0.1894 - accuracy: 1.0000\n",
      "Epoch 41/100\n",
      "24/24 [==============================] - 0s 522us/step - loss: 0.1859 - accuracy: 1.0000\n",
      "Epoch 42/100\n",
      "24/24 [==============================] - 0s 525us/step - loss: 0.1824 - accuracy: 1.0000\n",
      "Epoch 43/100\n",
      "24/24 [==============================] - 0s 530us/step - loss: 0.1790 - accuracy: 1.0000\n",
      "Epoch 44/100\n",
      "24/24 [==============================] - 0s 499us/step - loss: 0.1757 - accuracy: 1.0000\n",
      "Epoch 45/100\n",
      "24/24 [==============================] - 0s 501us/step - loss: 0.1725 - accuracy: 1.0000\n",
      "Epoch 46/100\n",
      "24/24 [==============================] - 0s 517us/step - loss: 0.1693 - accuracy: 1.0000\n",
      "Epoch 47/100\n",
      "24/24 [==============================] - 0s 549us/step - loss: 0.1663 - accuracy: 1.0000\n",
      "Epoch 48/100\n",
      "24/24 [==============================] - 0s 496us/step - loss: 0.1633 - accuracy: 1.0000\n",
      "Epoch 49/100\n",
      "24/24 [==============================] - 0s 491us/step - loss: 0.1603 - accuracy: 1.0000\n",
      "Epoch 50/100\n",
      "24/24 [==============================] - 0s 475us/step - loss: 0.1575 - accuracy: 1.0000\n",
      "Epoch 51/100\n",
      "24/24 [==============================] - 0s 531us/step - loss: 0.1547 - accuracy: 1.0000\n",
      "Epoch 52/100\n",
      "24/24 [==============================] - 0s 585us/step - loss: 0.1520 - accuracy: 1.0000\n",
      "Epoch 53/100\n",
      "24/24 [==============================] - 0s 491us/step - loss: 0.1493 - accuracy: 1.0000\n",
      "Epoch 54/100\n",
      "24/24 [==============================] - 0s 518us/step - loss: 0.1467 - accuracy: 1.0000\n",
      "Epoch 55/100\n",
      "24/24 [==============================] - 0s 514us/step - loss: 0.1442 - accuracy: 1.0000\n",
      "Epoch 56/100\n",
      "24/24 [==============================] - 0s 540us/step - loss: 0.1417 - accuracy: 1.0000\n",
      "Epoch 57/100\n",
      "24/24 [==============================] - 0s 443us/step - loss: 0.1392 - accuracy: 1.0000\n",
      "Epoch 58/100\n",
      "24/24 [==============================] - 0s 479us/step - loss: 0.1369 - accuracy: 1.0000\n",
      "Epoch 59/100\n",
      "24/24 [==============================] - 0s 497us/step - loss: 0.1345 - accuracy: 1.0000\n",
      "Epoch 60/100\n",
      "24/24 [==============================] - 0s 464us/step - loss: 0.1323 - accuracy: 1.0000\n",
      "Epoch 61/100\n",
      "24/24 [==============================] - 0s 479us/step - loss: 0.1301 - accuracy: 1.0000\n",
      "Epoch 62/100\n",
      "24/24 [==============================] - 0s 438us/step - loss: 0.1279 - accuracy: 1.0000\n",
      "Epoch 63/100\n",
      "24/24 [==============================] - 0s 520us/step - loss: 0.1258 - accuracy: 1.0000\n",
      "Epoch 64/100\n",
      "24/24 [==============================] - 0s 529us/step - loss: 0.1237 - accuracy: 1.0000\n",
      "Epoch 65/100\n",
      "24/24 [==============================] - 0s 482us/step - loss: 0.1217 - accuracy: 1.0000\n",
      "Epoch 66/100\n",
      "24/24 [==============================] - 0s 481us/step - loss: 0.1197 - accuracy: 1.0000\n",
      "Epoch 67/100\n",
      "24/24 [==============================] - 0s 501us/step - loss: 0.1177 - accuracy: 1.0000\n",
      "Epoch 68/100\n",
      "24/24 [==============================] - 0s 461us/step - loss: 0.1158 - accuracy: 1.0000\n",
      "Epoch 69/100\n",
      "24/24 [==============================] - 0s 505us/step - loss: 0.1140 - accuracy: 1.0000\n",
      "Epoch 70/100\n",
      "24/24 [==============================] - 0s 449us/step - loss: 0.1121 - accuracy: 1.0000\n",
      "Epoch 71/100\n",
      "24/24 [==============================] - 0s 459us/step - loss: 0.1103 - accuracy: 1.0000\n",
      "Epoch 72/100\n",
      "24/24 [==============================] - 0s 458us/step - loss: 0.1086 - accuracy: 1.0000\n",
      "Epoch 73/100\n",
      "24/24 [==============================] - 0s 504us/step - loss: 0.1069 - accuracy: 1.0000\n",
      "Epoch 74/100\n",
      "24/24 [==============================] - 0s 520us/step - loss: 0.1052 - accuracy: 1.0000\n",
      "Epoch 75/100\n",
      "24/24 [==============================] - 0s 478us/step - loss: 0.1035 - accuracy: 1.0000\n",
      "Epoch 76/100\n",
      "24/24 [==============================] - 0s 474us/step - loss: 0.1019 - accuracy: 1.0000\n",
      "Epoch 77/100\n",
      "24/24 [==============================] - 0s 477us/step - loss: 0.1003 - accuracy: 1.0000\n",
      "Epoch 78/100\n",
      "24/24 [==============================] - 0s 502us/step - loss: 0.0988 - accuracy: 1.0000\n",
      "Epoch 79/100\n",
      "24/24 [==============================] - 0s 472us/step - loss: 0.0973 - accuracy: 1.0000\n",
      "Epoch 80/100\n",
      "24/24 [==============================] - 0s 435us/step - loss: 0.0958 - accuracy: 1.0000\n",
      "Epoch 81/100\n"
     ]
    },
    {
     "name": "stdout",
     "output_type": "stream",
     "text": [
      "24/24 [==============================] - 0s 433us/step - loss: 0.0943 - accuracy: 1.0000\n",
      "Epoch 82/100\n",
      "24/24 [==============================] - 0s 497us/step - loss: 0.0929 - accuracy: 1.0000\n",
      "Epoch 83/100\n",
      "24/24 [==============================] - 0s 493us/step - loss: 0.0915 - accuracy: 1.0000\n",
      "Epoch 84/100\n",
      "24/24 [==============================] - 0s 523us/step - loss: 0.0901 - accuracy: 1.0000\n",
      "Epoch 85/100\n",
      "24/24 [==============================] - 0s 452us/step - loss: 0.0887 - accuracy: 1.0000\n",
      "Epoch 86/100\n",
      "24/24 [==============================] - 0s 436us/step - loss: 0.0874 - accuracy: 1.0000\n",
      "Epoch 87/100\n",
      "24/24 [==============================] - 0s 475us/step - loss: 0.0861 - accuracy: 1.0000\n",
      "Epoch 88/100\n",
      "24/24 [==============================] - 0s 486us/step - loss: 0.0848 - accuracy: 1.0000\n",
      "Epoch 89/100\n",
      "24/24 [==============================] - 0s 463us/step - loss: 0.0836 - accuracy: 1.0000\n",
      "Epoch 90/100\n",
      "24/24 [==============================] - 0s 426us/step - loss: 0.0824 - accuracy: 1.0000\n",
      "Epoch 91/100\n",
      "24/24 [==============================] - 0s 432us/step - loss: 0.0812 - accuracy: 1.0000\n",
      "Epoch 92/100\n",
      "24/24 [==============================] - 0s 465us/step - loss: 0.0800 - accuracy: 1.0000\n",
      "Epoch 93/100\n",
      "24/24 [==============================] - 0s 496us/step - loss: 0.0788 - accuracy: 1.0000\n",
      "Epoch 94/100\n",
      "24/24 [==============================] - 0s 517us/step - loss: 0.0777 - accuracy: 1.0000\n",
      "Epoch 95/100\n",
      "24/24 [==============================] - 0s 427us/step - loss: 0.0766 - accuracy: 1.0000\n",
      "Epoch 96/100\n",
      "24/24 [==============================] - 0s 471us/step - loss: 0.0755 - accuracy: 1.0000\n",
      "Epoch 97/100\n",
      "24/24 [==============================] - 0s 459us/step - loss: 0.0744 - accuracy: 1.0000\n",
      "Epoch 98/100\n",
      "24/24 [==============================] - 0s 465us/step - loss: 0.0734 - accuracy: 1.0000\n",
      "Epoch 99/100\n",
      "24/24 [==============================] - 0s 434us/step - loss: 0.0723 - accuracy: 1.0000\n",
      "Epoch 100/100\n",
      "24/24 [==============================] - 0s 489us/step - loss: 0.0713 - accuracy: 1.0000\n"
     ]
    }
   ],
   "source": [
    "# Fit the model to the training data\n",
    "fit_model = nn_model.fit(X_train_scaled, y_train, epochs=100)"
   ]
  },
  {
   "cell_type": "code",
   "execution_count": 11,
   "id": "640da6dd",
   "metadata": {},
   "outputs": [
    {
     "data": {
      "text/plain": [
       "<AxesSubplot:>"
      ]
     },
     "execution_count": 11,
     "metadata": {},
     "output_type": "execute_result"
    },
    {
     "data": {
      "image/png": "[encoded data removed]",
      "text/plain": [
       "<Figure size 432x288 with 1 Axes>"
      ]
     },
     "metadata": {
      "needs_background": "light"
     },
     "output_type": "display_data"
    }
   ],
   "source": [
    "# Create a DataFrame containing training history\n",
    "history_df = pd.DataFrame(fit_model.history, index=range(1,len(fit_model.history[\"loss\"])+1))\n",
    "\n",
    "# Plot the loss\n",
    "history_df.plot(y=\"loss\")"
   ]
  },
  {
   "cell_type": "code",
   "execution_count": 12,
   "id": "8b8d6077",
   "metadata": {},
   "outputs": [
    {
     "data": {
      "text/plain": [
       "<AxesSubplot:>"
      ]
     },
     "execution_count": 12,
     "metadata": {},
     "output_type": "execute_result"
    },
    {
     "data": {
      "image/png": "[encoded data removed]",
      "text/plain": [
       "<Figure size 432x288 with 1 Axes>"
      ]
     },
     "metadata": {
      "needs_background": "light"
     },
     "output_type": "display_data"
    }
   ],
   "source": [
    "# Plot the accuracy\n",
    "history_df.plot(y=\"accuracy\")"
   ]
  },
  {
   "cell_type": "code",
   "execution_count": 13,
   "id": "34348601",
   "metadata": {},
   "outputs": [
    {
     "name": "stdout",
     "output_type": "stream",
     "text": [
      "8/8 - 0s - loss: 0.0734 - accuracy: 1.0000 - 76ms/epoch - 9ms/step\n",
      "Loss: 0.07339537143707275, Accuracy: 1.0\n"
     ]
    }
   ],
   "source": [
    "# Evaluate the model using the test data\n",
    "model_loss, model_accuracy = nn_model.evaluate(X_test_scaled,y_test,verbose=2)\n",
    "print(f\"Loss: {model_loss}, Accuracy: {model_accuracy}\")"
   ]
  },
  {
   "cell_type": "code",
   "execution_count": 14,
   "id": "0d79540a",
   "metadata": {},
   "outputs": [
    {
     "data": {
      "text/plain": [
       "array([[0],\n",
       "       [1],\n",
       "       [0],\n",
       "       [1],\n",
       "       [0],\n",
       "       [0],\n",
       "       [1],\n",
       "       [1],\n",
       "       [1],\n",
       "       [0]])"
      ]
     },
     "execution_count": 14,
     "metadata": {},
     "output_type": "execute_result"
    }
   ],
   "source": [
    "# Predict the classification of a new set of blob data\n",
    "new_X, new_Y = make_blobs(n_samples=10, centers=2, n_features=2, random_state=78)\n",
    "new_X_scaled = X_scaler.transform(new_X)\n",
    "(nn_model.predict(new_X_scaled) > 0.5).astype(\"int32\")"
   ]
  },
  {
   "cell_type": "code",
   "execution_count": 15,
   "id": "7077f470",
   "metadata": {},
   "outputs": [
    {
     "data": {
      "text/plain": [
       "<AxesSubplot:xlabel='Feature 1', ylabel='Feature 2'>"
      ]
     },
     "execution_count": 15,
     "metadata": {},
     "output_type": "execute_result"
    },
    {
     "data": {
      "image/png": "[encoded data removed]",
      "text/plain": [
       "<Figure size 432x288 with 2 Axes>"
      ]
     },
     "metadata": {
      "needs_background": "light"
     },
     "output_type": "display_data"
    }
   ],
   "source": [
    "from sklearn.datasets import make_moons\n",
    "\n",
    "# Creating dummy nonlinear data\n",
    "X_moons, y_moons = make_moons(n_samples=1000, noise=0.08, random_state=78)\n",
    "\n",
    "# Transforming y_moons to a vertical vector\n",
    "y_moons = y_moons.reshape(-1, 1)\n",
    "\n",
    "# Creating a DataFrame to plot the nonlinear dummy data\n",
    "df_moons = pd.DataFrame(X_moons, columns=[\"Feature 1\", \"Feature 2\"])\n",
    "df_moons[\"Target\"] = y_moons\n",
    "\n",
    "# Plot the nonlinear dummy data\n",
    "df_moons.plot.scatter(x=\"Feature 1\",y=\"Feature 2\", c=\"Target\",colormap=\"winter\")"
   ]
  },
  {
   "cell_type": "code",
   "execution_count": 16,
   "id": "cab300da",
   "metadata": {},
   "outputs": [],
   "source": [
    "# Create training and testing sets\n",
    "X_moon_train, X_moon_test, y_moon_train, y_moon_test = train_test_split(\n",
    "    X_moons, y_moons, random_state=78\n",
    ")\n",
    "\n",
    "# Create the scaler instance\n",
    "X_moon_scaler = skl.preprocessing.StandardScaler()\n",
    "\n",
    "# Fit the scaler\n",
    "X_moon_scaler.fit(X_moon_train)\n",
    "\n",
    "# Scale the data\n",
    "X_moon_train_scaled = X_moon_scaler.transform(X_moon_train)\n",
    "X_moon_test_scaled = X_moon_scaler.transform(X_moon_test)"
   ]
  },
  {
   "cell_type": "code",
   "execution_count": 17,
   "id": "2c7767d2",
   "metadata": {},
   "outputs": [
    {
     "name": "stdout",
     "output_type": "stream",
     "text": [
      "Epoch 1/100\n",
      "24/24 [==============================] - 0s 705us/step - loss: 1.2027 - accuracy: 0.4613\n",
      "Epoch 2/100\n",
      "24/24 [==============================] - 0s 665us/step - loss: 1.0655 - accuracy: 0.4840\n",
      "Epoch 3/100\n",
      "24/24 [==============================] - 0s 668us/step - loss: 0.9761 - accuracy: 0.4987\n",
      "Epoch 4/100\n",
      "24/24 [==============================] - 0s 690us/step - loss: 0.9160 - accuracy: 0.5093\n",
      "Epoch 5/100\n",
      "24/24 [==============================] - 0s 717us/step - loss: 0.8708 - accuracy: 0.5213\n",
      "Epoch 6/100\n",
      "24/24 [==============================] - 0s 759us/step - loss: 0.8360 - accuracy: 0.5320\n",
      "Epoch 7/100\n",
      "24/24 [==============================] - 0s 765us/step - loss: 0.8076 - accuracy: 0.5440\n",
      "Epoch 8/100\n",
      "24/24 [==============================] - 0s 705us/step - loss: 0.7837 - accuracy: 0.5640\n",
      "Epoch 9/100\n",
      "24/24 [==============================] - 0s 694us/step - loss: 0.7634 - accuracy: 0.5720\n",
      "Epoch 10/100\n",
      "24/24 [==============================] - 0s 703us/step - loss: 0.7455 - accuracy: 0.5800\n",
      "Epoch 11/100\n",
      "24/24 [==============================] - 0s 789us/step - loss: 0.7293 - accuracy: 0.5853\n",
      "Epoch 12/100\n",
      "24/24 [==============================] - 0s 733us/step - loss: 0.7150 - accuracy: 0.5933\n",
      "Epoch 13/100\n",
      "24/24 [==============================] - 0s 732us/step - loss: 0.7021 - accuracy: 0.6013\n",
      "Epoch 14/100\n",
      "24/24 [==============================] - 0s 746us/step - loss: 0.6900 - accuracy: 0.6093\n",
      "Epoch 15/100\n",
      "24/24 [==============================] - 0s 690us/step - loss: 0.6787 - accuracy: 0.6160\n",
      "Epoch 16/100\n",
      "24/24 [==============================] - 0s 690us/step - loss: 0.6679 - accuracy: 0.6213\n",
      "Epoch 17/100\n",
      "24/24 [==============================] - 0s 712us/step - loss: 0.6578 - accuracy: 0.6253\n",
      "Epoch 18/100\n",
      "24/24 [==============================] - 0s 713us/step - loss: 0.6482 - accuracy: 0.6307\n",
      "Epoch 19/100\n",
      "24/24 [==============================] - 0s 743us/step - loss: 0.6393 - accuracy: 0.6373\n",
      "Epoch 20/100\n",
      "24/24 [==============================] - 0s 763us/step - loss: 0.6307 - accuracy: 0.6387\n",
      "Epoch 21/100\n",
      "24/24 [==============================] - 0s 690us/step - loss: 0.6225 - accuracy: 0.6427\n",
      "Epoch 22/100\n",
      "24/24 [==============================] - 0s 689us/step - loss: 0.6150 - accuracy: 0.6467\n",
      "Epoch 23/100\n",
      "24/24 [==============================] - 0s 647us/step - loss: 0.6079 - accuracy: 0.6493\n",
      "Epoch 24/100\n",
      "24/24 [==============================] - 0s 713us/step - loss: 0.6014 - accuracy: 0.6560\n",
      "Epoch 25/100\n",
      "24/24 [==============================] - 0s 685us/step - loss: 0.5946 - accuracy: 0.6600\n",
      "Epoch 26/100\n",
      "24/24 [==============================] - 0s 763us/step - loss: 0.5884 - accuracy: 0.6653\n",
      "Epoch 27/100\n",
      "24/24 [==============================] - 0s 789us/step - loss: 0.5821 - accuracy: 0.6720\n",
      "Epoch 28/100\n",
      "24/24 [==============================] - 0s 710us/step - loss: 0.5762 - accuracy: 0.6760\n",
      "Epoch 29/100\n",
      "24/24 [==============================] - 0s 721us/step - loss: 0.5704 - accuracy: 0.6787\n",
      "Epoch 30/100\n",
      "24/24 [==============================] - 0s 708us/step - loss: 0.5649 - accuracy: 0.6813\n",
      "Epoch 31/100\n",
      "24/24 [==============================] - 0s 696us/step - loss: 0.5599 - accuracy: 0.6853\n",
      "Epoch 32/100\n",
      "24/24 [==============================] - 0s 716us/step - loss: 0.5544 - accuracy: 0.6893\n",
      "Epoch 33/100\n",
      "24/24 [==============================] - 0s 709us/step - loss: 0.5496 - accuracy: 0.6947\n",
      "Epoch 34/100\n",
      "24/24 [==============================] - 0s 712us/step - loss: 0.5447 - accuracy: 0.6973\n",
      "Epoch 35/100\n",
      "24/24 [==============================] - 0s 693us/step - loss: 0.5396 - accuracy: 0.7013\n",
      "Epoch 36/100\n",
      "24/24 [==============================] - 0s 749us/step - loss: 0.5348 - accuracy: 0.7013\n",
      "Epoch 37/100\n",
      "24/24 [==============================] - 0s 730us/step - loss: 0.5300 - accuracy: 0.7067\n",
      "Epoch 38/100\n",
      "24/24 [==============================] - 0s 661us/step - loss: 0.5254 - accuracy: 0.7080\n",
      "Epoch 39/100\n",
      "24/24 [==============================] - 0s 719us/step - loss: 0.5207 - accuracy: 0.7093\n",
      "Epoch 40/100\n",
      "24/24 [==============================] - 0s 698us/step - loss: 0.5165 - accuracy: 0.7133\n",
      "Epoch 41/100\n",
      "24/24 [==============================] - 0s 681us/step - loss: 0.5121 - accuracy: 0.7160\n",
      "Epoch 42/100\n",
      "24/24 [==============================] - 0s 677us/step - loss: 0.5079 - accuracy: 0.7213\n",
      "Epoch 43/100\n",
      "24/24 [==============================] - 0s 754us/step - loss: 0.5039 - accuracy: 0.7240\n",
      "Epoch 44/100\n",
      "24/24 [==============================] - 0s 712us/step - loss: 0.4998 - accuracy: 0.7253\n",
      "Epoch 45/100\n",
      "24/24 [==============================] - 0s 693us/step - loss: 0.4959 - accuracy: 0.7280\n",
      "Epoch 46/100\n",
      "24/24 [==============================] - 0s 730us/step - loss: 0.4919 - accuracy: 0.7293\n",
      "Epoch 47/100\n",
      "24/24 [==============================] - 0s 705us/step - loss: 0.4880 - accuracy: 0.7333\n",
      "Epoch 48/100\n",
      "24/24 [==============================] - 0s 706us/step - loss: 0.4842 - accuracy: 0.7373\n",
      "Epoch 49/100\n",
      "24/24 [==============================] - 0s 724us/step - loss: 0.4805 - accuracy: 0.7413\n",
      "Epoch 50/100\n",
      "24/24 [==============================] - 0s 734us/step - loss: 0.4765 - accuracy: 0.7453\n",
      "Epoch 51/100\n",
      "24/24 [==============================] - 0s 755us/step - loss: 0.4728 - accuracy: 0.7453\n",
      "Epoch 52/100\n",
      "24/24 [==============================] - 0s 720us/step - loss: 0.4690 - accuracy: 0.7467\n",
      "Epoch 53/100\n",
      "24/24 [==============================] - 0s 722us/step - loss: 0.4653 - accuracy: 0.7507\n",
      "Epoch 54/100\n",
      "24/24 [==============================] - 0s 674us/step - loss: 0.4616 - accuracy: 0.7533\n",
      "Epoch 55/100\n",
      "24/24 [==============================] - 0s 676us/step - loss: 0.4577 - accuracy: 0.7600\n",
      "Epoch 56/100\n",
      "24/24 [==============================] - 0s 695us/step - loss: 0.4539 - accuracy: 0.7627\n",
      "Epoch 57/100\n",
      "24/24 [==============================] - 0s 728us/step - loss: 0.4502 - accuracy: 0.7667\n",
      "Epoch 58/100\n",
      "24/24 [==============================] - 0s 712us/step - loss: 0.4465 - accuracy: 0.7693\n",
      "Epoch 59/100\n",
      "24/24 [==============================] - 0s 728us/step - loss: 0.4426 - accuracy: 0.7720\n",
      "Epoch 60/100\n",
      "24/24 [==============================] - 0s 670us/step - loss: 0.4387 - accuracy: 0.7720\n",
      "Epoch 61/100\n",
      "24/24 [==============================] - 0s 716us/step - loss: 0.4349 - accuracy: 0.7733\n",
      "Epoch 62/100\n",
      "24/24 [==============================] - 0s 724us/step - loss: 0.4310 - accuracy: 0.7773\n",
      "Epoch 63/100\n",
      "24/24 [==============================] - 0s 672us/step - loss: 0.4271 - accuracy: 0.7813\n",
      "Epoch 64/100\n",
      "24/24 [==============================] - 0s 717us/step - loss: 0.4232 - accuracy: 0.7813\n",
      "Epoch 65/100\n",
      "24/24 [==============================] - 0s 688us/step - loss: 0.4191 - accuracy: 0.7827\n",
      "Epoch 66/100\n",
      "24/24 [==============================] - 0s 685us/step - loss: 0.4152 - accuracy: 0.7867\n",
      "Epoch 67/100\n",
      "24/24 [==============================] - 0s 667us/step - loss: 0.4112 - accuracy: 0.7947\n",
      "Epoch 68/100\n",
      "24/24 [==============================] - 0s 741us/step - loss: 0.4070 - accuracy: 0.8000\n",
      "Epoch 69/100\n",
      "24/24 [==============================] - 0s 679us/step - loss: 0.4030 - accuracy: 0.8040\n",
      "Epoch 70/100\n",
      "24/24 [==============================] - 0s 667us/step - loss: 0.3989 - accuracy: 0.8093\n",
      "Epoch 71/100\n",
      "24/24 [==============================] - 0s 757us/step - loss: 0.3948 - accuracy: 0.8147\n",
      "Epoch 72/100\n",
      "24/24 [==============================] - 0s 744us/step - loss: 0.3907 - accuracy: 0.8160\n",
      "Epoch 73/100\n",
      "24/24 [==============================] - 0s 692us/step - loss: 0.3866 - accuracy: 0.8187\n",
      "Epoch 74/100\n",
      "24/24 [==============================] - 0s 725us/step - loss: 0.3826 - accuracy: 0.8187\n",
      "Epoch 75/100\n",
      "24/24 [==============================] - 0s 710us/step - loss: 0.3785 - accuracy: 0.8213\n",
      "Epoch 76/100\n",
      "24/24 [==============================] - 0s 675us/step - loss: 0.3746 - accuracy: 0.8240\n",
      "Epoch 77/100\n",
      "24/24 [==============================] - 0s 668us/step - loss: 0.3706 - accuracy: 0.8253\n",
      "Epoch 78/100\n",
      "24/24 [==============================] - 0s 706us/step - loss: 0.3666 - accuracy: 0.8280\n",
      "Epoch 79/100\n",
      "24/24 [==============================] - 0s 686us/step - loss: 0.3628 - accuracy: 0.8320\n",
      "Epoch 80/100\n",
      "24/24 [==============================] - 0s 689us/step - loss: 0.3589 - accuracy: 0.8347\n",
      "Epoch 81/100\n"
     ]
    },
    {
     "name": "stdout",
     "output_type": "stream",
     "text": [
      "24/24 [==============================] - 0s 719us/step - loss: 0.3548 - accuracy: 0.8360\n",
      "Epoch 82/100\n",
      "24/24 [==============================] - 0s 661us/step - loss: 0.3508 - accuracy: 0.8453\n",
      "Epoch 83/100\n",
      "24/24 [==============================] - 0s 703us/step - loss: 0.3469 - accuracy: 0.8467\n",
      "Epoch 84/100\n",
      "24/24 [==============================] - 0s 702us/step - loss: 0.3432 - accuracy: 0.8493\n",
      "Epoch 85/100\n",
      "24/24 [==============================] - 0s 659us/step - loss: 0.3394 - accuracy: 0.8533\n",
      "Epoch 86/100\n",
      "24/24 [==============================] - 0s 749us/step - loss: 0.3359 - accuracy: 0.8560\n",
      "Epoch 87/100\n",
      "24/24 [==============================] - 0s 697us/step - loss: 0.3324 - accuracy: 0.8573\n",
      "Epoch 88/100\n",
      "24/24 [==============================] - 0s 669us/step - loss: 0.3291 - accuracy: 0.8587\n",
      "Epoch 89/100\n",
      "24/24 [==============================] - 0s 705us/step - loss: 0.3258 - accuracy: 0.8600\n",
      "Epoch 90/100\n",
      "24/24 [==============================] - 0s 693us/step - loss: 0.3228 - accuracy: 0.8613\n",
      "Epoch 91/100\n",
      "24/24 [==============================] - 0s 664us/step - loss: 0.3199 - accuracy: 0.8613\n",
      "Epoch 92/100\n",
      "24/24 [==============================] - 0s 689us/step - loss: 0.3169 - accuracy: 0.8627\n",
      "Epoch 93/100\n",
      "24/24 [==============================] - 0s 691us/step - loss: 0.3140 - accuracy: 0.8640\n",
      "Epoch 94/100\n",
      "24/24 [==============================] - 0s 647us/step - loss: 0.3114 - accuracy: 0.8707\n",
      "Epoch 95/100\n",
      "24/24 [==============================] - 0s 702us/step - loss: 0.3091 - accuracy: 0.8720\n",
      "Epoch 96/100\n",
      "24/24 [==============================] - 0s 642us/step - loss: 0.3069 - accuracy: 0.8773\n",
      "Epoch 97/100\n",
      "24/24 [==============================] - 0s 661us/step - loss: 0.3049 - accuracy: 0.8773\n",
      "Epoch 98/100\n",
      "24/24 [==============================] - 0s 704us/step - loss: 0.3031 - accuracy: 0.8800\n",
      "Epoch 99/100\n",
      "24/24 [==============================] - 0s 674us/step - loss: 0.3014 - accuracy: 0.8800\n",
      "Epoch 100/100\n",
      "24/24 [==============================] - 0s 642us/step - loss: 0.2998 - accuracy: 0.8800\n"
     ]
    }
   ],
   "source": [
    "# Training the model with the nonlinear data\n",
    "model_moon = nn_model.fit(X_moon_train_scaled, y_moon_train, epochs=100, shuffle=True)"
   ]
  },
  {
   "cell_type": "code",
   "execution_count": 18,
   "id": "93462a3b",
   "metadata": {},
   "outputs": [
    {
     "data": {
      "text/plain": [
       "<AxesSubplot:>"
      ]
     },
     "execution_count": 18,
     "metadata": {},
     "output_type": "execute_result"
    },
    {
     "data": {
      "image/png": "[encoded data removed]",
      "text/plain": [
       "<Figure size 432x288 with 1 Axes>"
      ]
     },
     "metadata": {
      "needs_background": "light"
     },
     "output_type": "display_data"
    }
   ],
   "source": [
    "# Create a DataFrame containing training history\n",
    "history_df = pd.DataFrame(model_moon.history, index=range(1,len(model_moon.history[\"loss\"])+1))\n",
    "\n",
    "# Plot the loss\n",
    "history_df.plot(y=\"loss\")"
   ]
  },
  {
   "cell_type": "code",
   "execution_count": 19,
   "id": "b1fdd414",
   "metadata": {},
   "outputs": [
    {
     "data": {
      "text/plain": [
       "<AxesSubplot:>"
      ]
     },
     "execution_count": 19,
     "metadata": {},
     "output_type": "execute_result"
    },
    {
     "data": {
      "image/png": "[encoded data removed]",
      "text/plain": [
       "<Figure size 432x288 with 1 Axes>"
      ]
     },
     "metadata": {
      "needs_background": "light"
     },
     "output_type": "display_data"
    }
   ],
   "source": [
    "# Plot the accuracy\n",
    "history_df.plot(y=\"accuracy\")"
   ]
  },
  {
   "cell_type": "code",
   "execution_count": 20,
   "id": "97b406e6",
   "metadata": {},
   "outputs": [],
   "source": [
    "# Generate our new Sequential model\n",
    "new_model = tf.keras.models.Sequential()"
   ]
  },
  {
   "cell_type": "code",
   "execution_count": 21,
   "id": "9a2c94f6",
   "metadata": {},
   "outputs": [],
   "source": [
    "# Add the input and hidden layer\n",
    "number_inputs = 2\n",
    "number_hidden_nodes = 6\n",
    "\n",
    "new_model.add(tf.keras.layers.Dense(units=number_hidden_nodes, activation=\"relu\", input_dim=number_inputs))\n",
    "\n",
    "# Add the output layer that uses a probability activation function\n",
    "new_model.add(tf.keras.layers.Dense(units=1, activation=\"sigmoid\"))"
   ]
  },
  {
   "cell_type": "code",
   "execution_count": 22,
   "id": "721880ed",
   "metadata": {},
   "outputs": [
    {
     "name": "stdout",
     "output_type": "stream",
     "text": [
      "Epoch 1/100\n",
      "24/24 [==============================] - 0s 578us/step - loss: 0.5630 - accuracy: 0.7413\n",
      "Epoch 2/100\n",
      "24/24 [==============================] - 0s 567us/step - loss: 0.5401 - accuracy: 0.7587\n",
      "Epoch 3/100\n",
      "24/24 [==============================] - 0s 509us/step - loss: 0.5170 - accuracy: 0.7747\n",
      "Epoch 4/100\n",
      "24/24 [==============================] - 0s 531us/step - loss: 0.4945 - accuracy: 0.7827\n",
      "Epoch 5/100\n",
      "24/24 [==============================] - 0s 550us/step - loss: 0.4727 - accuracy: 0.8000\n",
      "Epoch 6/100\n",
      "24/24 [==============================] - 0s 601us/step - loss: 0.4514 - accuracy: 0.8173\n",
      "Epoch 7/100\n",
      "24/24 [==============================] - 0s 582us/step - loss: 0.4317 - accuracy: 0.8200\n",
      "Epoch 8/100\n",
      "24/24 [==============================] - 0s 552us/step - loss: 0.4127 - accuracy: 0.8267\n",
      "Epoch 9/100\n",
      "24/24 [==============================] - 0s 554us/step - loss: 0.3954 - accuracy: 0.8360\n",
      "Epoch 10/100\n",
      "24/24 [==============================] - 0s 544us/step - loss: 0.3796 - accuracy: 0.8440\n",
      "Epoch 11/100\n",
      "24/24 [==============================] - 0s 535us/step - loss: 0.3654 - accuracy: 0.8547\n",
      "Epoch 12/100\n",
      "24/24 [==============================] - 0s 580us/step - loss: 0.3525 - accuracy: 0.8600\n",
      "Epoch 13/100\n",
      "24/24 [==============================] - 0s 589us/step - loss: 0.3408 - accuracy: 0.8680\n",
      "Epoch 14/100\n",
      "24/24 [==============================] - 0s 592us/step - loss: 0.3303 - accuracy: 0.8680\n",
      "Epoch 15/100\n",
      "24/24 [==============================] - 0s 595us/step - loss: 0.3209 - accuracy: 0.8693\n",
      "Epoch 16/100\n",
      "24/24 [==============================] - 0s 599us/step - loss: 0.3124 - accuracy: 0.8707\n",
      "Epoch 17/100\n",
      "24/24 [==============================] - 0s 568us/step - loss: 0.3047 - accuracy: 0.8773\n",
      "Epoch 18/100\n",
      "24/24 [==============================] - 0s 605us/step - loss: 0.2977 - accuracy: 0.8800\n",
      "Epoch 19/100\n",
      "24/24 [==============================] - 0s 568us/step - loss: 0.2911 - accuracy: 0.8853\n",
      "Epoch 20/100\n",
      "24/24 [==============================] - 0s 556us/step - loss: 0.2856 - accuracy: 0.8880\n",
      "Epoch 21/100\n",
      "24/24 [==============================] - 0s 572us/step - loss: 0.2800 - accuracy: 0.8907\n",
      "Epoch 22/100\n",
      "24/24 [==============================] - 0s 515us/step - loss: 0.2756 - accuracy: 0.8920\n",
      "Epoch 23/100\n",
      "24/24 [==============================] - ETA: 0s - loss: 0.3002 - accuracy: 0.87 - 0s 494us/step - loss: 0.2711 - accuracy: 0.8933\n",
      "Epoch 24/100\n",
      "24/24 [==============================] - 0s 587us/step - loss: 0.2671 - accuracy: 0.8933\n",
      "Epoch 25/100\n",
      "24/24 [==============================] - 0s 553us/step - loss: 0.2633 - accuracy: 0.8960\n",
      "Epoch 26/100\n",
      "24/24 [==============================] - 0s 501us/step - loss: 0.2598 - accuracy: 0.8973\n",
      "Epoch 27/100\n",
      "24/24 [==============================] - 0s 496us/step - loss: 0.2566 - accuracy: 0.8973\n",
      "Epoch 28/100\n",
      "24/24 [==============================] - 0s 563us/step - loss: 0.2536 - accuracy: 0.8973\n",
      "Epoch 29/100\n",
      "24/24 [==============================] - 0s 541us/step - loss: 0.2508 - accuracy: 0.8987\n",
      "Epoch 30/100\n",
      "24/24 [==============================] - 0s 590us/step - loss: 0.2481 - accuracy: 0.9013\n",
      "Epoch 31/100\n",
      "24/24 [==============================] - 0s 499us/step - loss: 0.2457 - accuracy: 0.9013\n",
      "Epoch 32/100\n",
      "24/24 [==============================] - 0s 523us/step - loss: 0.2432 - accuracy: 0.9040\n",
      "Epoch 33/100\n",
      "24/24 [==============================] - 0s 570us/step - loss: 0.2410 - accuracy: 0.9040\n",
      "Epoch 34/100\n",
      "24/24 [==============================] - 0s 544us/step - loss: 0.2387 - accuracy: 0.9080\n",
      "Epoch 35/100\n",
      "24/24 [==============================] - 0s 515us/step - loss: 0.2367 - accuracy: 0.9093\n",
      "Epoch 36/100\n",
      "24/24 [==============================] - 0s 558us/step - loss: 0.2345 - accuracy: 0.9093\n",
      "Epoch 37/100\n",
      "24/24 [==============================] - 0s 547us/step - loss: 0.2325 - accuracy: 0.9107\n",
      "Epoch 38/100\n",
      "24/24 [==============================] - 0s 600us/step - loss: 0.2305 - accuracy: 0.9147\n",
      "Epoch 39/100\n",
      "24/24 [==============================] - 0s 556us/step - loss: 0.2285 - accuracy: 0.9160\n",
      "Epoch 40/100\n",
      "24/24 [==============================] - 0s 569us/step - loss: 0.2267 - accuracy: 0.9173\n",
      "Epoch 41/100\n",
      "24/24 [==============================] - 0s 537us/step - loss: 0.2247 - accuracy: 0.9173\n",
      "Epoch 42/100\n",
      "24/24 [==============================] - 0s 529us/step - loss: 0.2229 - accuracy: 0.9173\n",
      "Epoch 43/100\n",
      "24/24 [==============================] - 0s 563us/step - loss: 0.2211 - accuracy: 0.9187\n",
      "Epoch 44/100\n",
      "24/24 [==============================] - 0s 522us/step - loss: 0.2194 - accuracy: 0.9213\n",
      "Epoch 45/100\n",
      "24/24 [==============================] - 0s 542us/step - loss: 0.2176 - accuracy: 0.9227\n",
      "Epoch 46/100\n",
      "24/24 [==============================] - 0s 521us/step - loss: 0.2157 - accuracy: 0.9240\n",
      "Epoch 47/100\n",
      "24/24 [==============================] - 0s 590us/step - loss: 0.2140 - accuracy: 0.9240\n",
      "Epoch 48/100\n",
      "24/24 [==============================] - 0s 571us/step - loss: 0.2123 - accuracy: 0.9253\n",
      "Epoch 49/100\n",
      "24/24 [==============================] - 0s 569us/step - loss: 0.2103 - accuracy: 0.9267\n",
      "Epoch 50/100\n",
      "24/24 [==============================] - 0s 605us/step - loss: 0.2086 - accuracy: 0.9267\n",
      "Epoch 51/100\n",
      "24/24 [==============================] - 0s 508us/step - loss: 0.2068 - accuracy: 0.9267\n",
      "Epoch 52/100\n",
      "24/24 [==============================] - 0s 541us/step - loss: 0.2049 - accuracy: 0.9267\n",
      "Epoch 53/100\n",
      "24/24 [==============================] - 0s 491us/step - loss: 0.2032 - accuracy: 0.9267\n",
      "Epoch 54/100\n",
      "24/24 [==============================] - 0s 553us/step - loss: 0.2013 - accuracy: 0.9267\n",
      "Epoch 55/100\n",
      "24/24 [==============================] - 0s 494us/step - loss: 0.1996 - accuracy: 0.9267\n",
      "Epoch 56/100\n",
      "24/24 [==============================] - 0s 516us/step - loss: 0.1977 - accuracy: 0.9280\n",
      "Epoch 57/100\n",
      "24/24 [==============================] - 0s 516us/step - loss: 0.1961 - accuracy: 0.9307\n",
      "Epoch 58/100\n",
      "24/24 [==============================] - 0s 551us/step - loss: 0.1940 - accuracy: 0.9320\n",
      "Epoch 59/100\n",
      "24/24 [==============================] - 0s 536us/step - loss: 0.1923 - accuracy: 0.9333\n",
      "Epoch 60/100\n",
      "24/24 [==============================] - 0s 561us/step - loss: 0.1904 - accuracy: 0.9333\n",
      "Epoch 61/100\n",
      "24/24 [==============================] - 0s 505us/step - loss: 0.1887 - accuracy: 0.9333\n",
      "Epoch 62/100\n",
      "24/24 [==============================] - 0s 520us/step - loss: 0.1869 - accuracy: 0.9333\n",
      "Epoch 63/100\n",
      "24/24 [==============================] - 0s 501us/step - loss: 0.1850 - accuracy: 0.9333\n",
      "Epoch 64/100\n",
      "24/24 [==============================] - 0s 511us/step - loss: 0.1832 - accuracy: 0.9347\n",
      "Epoch 65/100\n",
      "24/24 [==============================] - 0s 523us/step - loss: 0.1812 - accuracy: 0.9347\n",
      "Epoch 66/100\n",
      "24/24 [==============================] - 0s 523us/step - loss: 0.1793 - accuracy: 0.9347\n",
      "Epoch 67/100\n",
      "24/24 [==============================] - 0s 522us/step - loss: 0.1775 - accuracy: 0.9360\n",
      "Epoch 68/100\n",
      "24/24 [==============================] - 0s 493us/step - loss: 0.1756 - accuracy: 0.9347\n",
      "Epoch 69/100\n",
      "24/24 [==============================] - 0s 464us/step - loss: 0.1736 - accuracy: 0.9373\n",
      "Epoch 70/100\n",
      "24/24 [==============================] - 0s 531us/step - loss: 0.1718 - accuracy: 0.9373\n",
      "Epoch 71/100\n",
      "24/24 [==============================] - 0s 539us/step - loss: 0.1697 - accuracy: 0.9373\n",
      "Epoch 72/100\n",
      "24/24 [==============================] - 0s 495us/step - loss: 0.1678 - accuracy: 0.9373\n",
      "Epoch 73/100\n",
      "24/24 [==============================] - 0s 466us/step - loss: 0.1658 - accuracy: 0.9373\n",
      "Epoch 74/100\n",
      "24/24 [==============================] - 0s 483us/step - loss: 0.1639 - accuracy: 0.9373\n",
      "Epoch 75/100\n",
      "24/24 [==============================] - 0s 485us/step - loss: 0.1619 - accuracy: 0.9373\n",
      "Epoch 76/100\n",
      "24/24 [==============================] - 0s 496us/step - loss: 0.1600 - accuracy: 0.9387\n",
      "Epoch 77/100\n",
      "24/24 [==============================] - 0s 523us/step - loss: 0.1579 - accuracy: 0.9413\n",
      "Epoch 78/100\n",
      "24/24 [==============================] - 0s 597us/step - loss: 0.1560 - accuracy: 0.9427\n",
      "Epoch 79/100\n",
      "24/24 [==============================] - 0s 481us/step - loss: 0.1539 - accuracy: 0.9427\n",
      "Epoch 80/100\n",
      "24/24 [==============================] - 0s 494us/step - loss: 0.1520 - accuracy: 0.9440\n"
     ]
    },
    {
     "name": "stdout",
     "output_type": "stream",
     "text": [
      "Epoch 81/100\n",
      "24/24 [==============================] - 0s 522us/step - loss: 0.1501 - accuracy: 0.9453\n",
      "Epoch 82/100\n",
      "24/24 [==============================] - 0s 539us/step - loss: 0.1482 - accuracy: 0.9467\n",
      "Epoch 83/100\n",
      "24/24 [==============================] - 0s 519us/step - loss: 0.1463 - accuracy: 0.9493\n",
      "Epoch 84/100\n",
      "24/24 [==============================] - 0s 526us/step - loss: 0.1444 - accuracy: 0.9493\n",
      "Epoch 85/100\n",
      "24/24 [==============================] - 0s 595us/step - loss: 0.1425 - accuracy: 0.9493\n",
      "Epoch 86/100\n",
      "24/24 [==============================] - 0s 554us/step - loss: 0.1407 - accuracy: 0.9507\n",
      "Epoch 87/100\n",
      "24/24 [==============================] - 0s 525us/step - loss: 0.1391 - accuracy: 0.9507\n",
      "Epoch 88/100\n",
      "24/24 [==============================] - 0s 504us/step - loss: 0.1371 - accuracy: 0.9507\n",
      "Epoch 89/100\n",
      "24/24 [==============================] - 0s 522us/step - loss: 0.1353 - accuracy: 0.9520\n",
      "Epoch 90/100\n",
      "24/24 [==============================] - 0s 542us/step - loss: 0.1336 - accuracy: 0.9520\n",
      "Epoch 91/100\n",
      "24/24 [==============================] - 0s 577us/step - loss: 0.1318 - accuracy: 0.9533\n",
      "Epoch 92/100\n",
      "24/24 [==============================] - 0s 560us/step - loss: 0.1301 - accuracy: 0.9533\n",
      "Epoch 93/100\n",
      "24/24 [==============================] - 0s 567us/step - loss: 0.1284 - accuracy: 0.9560\n",
      "Epoch 94/100\n",
      "24/24 [==============================] - 0s 578us/step - loss: 0.1267 - accuracy: 0.9573\n",
      "Epoch 95/100\n",
      "24/24 [==============================] - 0s 550us/step - loss: 0.1250 - accuracy: 0.9573\n",
      "Epoch 96/100\n",
      "24/24 [==============================] - 0s 507us/step - loss: 0.1233 - accuracy: 0.9573\n",
      "Epoch 97/100\n",
      "24/24 [==============================] - 0s 520us/step - loss: 0.1218 - accuracy: 0.9573\n",
      "Epoch 98/100\n",
      "24/24 [==============================] - 0s 490us/step - loss: 0.1201 - accuracy: 0.9587\n",
      "Epoch 99/100\n",
      "24/24 [==============================] - 0s 531us/step - loss: 0.1184 - accuracy: 0.9613\n",
      "Epoch 100/100\n",
      "24/24 [==============================] - 0s 541us/step - loss: 0.1168 - accuracy: 0.9613\n"
     ]
    }
   ],
   "source": [
    "# Compile the Sequential model together and customize metrics\n",
    "new_model.compile(loss=\"binary_crossentropy\", optimizer=\"adam\", metrics=[\"accuracy\"])\n",
    "\n",
    "# Fit the model to the training data\n",
    "new_fit_model = new_model.fit(X_moon_train_scaled, y_moon_train, epochs=100, shuffle=True)"
   ]
  },
  {
   "cell_type": "code",
   "execution_count": null,
   "id": "70de5246",
   "metadata": {},
   "outputs": [],
   "source": []
  }
 ],
 "metadata": {
  "kernelspec": {
   "display_name": "mlenv",
   "language": "python",
   "name": "mlenv"
  },
  "language_info": {
   "codemirror_mode": {
    "name": "ipython",
    "version": 3
   },
   "file_extension": ".py",
   "mimetype": "text/x-python",
   "name": "python",
   "nbconvert_exporter": "python",
   "pygments_lexer": "ipython3",
   "version": "3.8.8"
  }
 },
 "nbformat": 4,
 "nbformat_minor": 5
}
